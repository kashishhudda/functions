{
  "nbformat": 4,
  "nbformat_minor": 0,
  "metadata": {
    "colab": {
      "provenance": []
    },
    "kernelspec": {
      "name": "python3",
      "display_name": "Python 3"
    },
    "language_info": {
      "name": "python"
    }
  },
  "cells": [
    {
      "cell_type": "markdown",
      "source": [
        "1.  Create an arrow function called square that takes a number as an argument and returns its square. Use\n",
        "the arrow function to calculate the square of a given number and display the result.\n"
      ],
      "metadata": {
        "id": "PUEqPw1uVZSV"
      }
    },
    {
      "cell_type": "code",
      "execution_count": null,
      "metadata": {
        "id": "ZIyNGGsPVXjv"
      },
      "outputs": [],
      "source": [
        "const square = (num) => num * num;\n",
        "console.log(square(5)); // Output: 25\n"
      ]
    },
    {
      "cell_type": "markdown",
      "source": [
        "2.  Create a JavaScript function called generateGreeting that takes a name as an argument and returns a\n",
        "personalized greeting message. Use this function to greet three different people.\n",
        "  "
      ],
      "metadata": {
        "id": "n593anztVi-9"
      }
    },
    {
      "cell_type": "code",
      "source": [
        "function generateGreeting(name) {\n",
        "  return `Hello, ${name}! Welcome.`;\n",
        "}\n",
        "console.log(generateGreeting(\"Alice\")); // Hello, Alice! Welcome.\n",
        "console.log(generateGreeting(\"Bob\"));   // Hello, Bob! Welcome.\n",
        "console.log(generateGreeting(\"Charlie\")); // Hello, Charlie! Welcome.\n"
      ],
      "metadata": {
        "id": "IYgng6_rVnfq"
      },
      "execution_count": null,
      "outputs": []
    },
    {
      "cell_type": "markdown",
      "source": [
        "3.  Create an IIFE (Immediately Invoked Function Expression) that calculates the square of a number and\n",
        "immediately displays the result."
      ],
      "metadata": {
        "id": "mnFxj6yyVrBk"
      }
    },
    {
      "cell_type": "code",
      "source": [
        "(function(num){\n",
        "  console.log(num * num);\n",
        "})(7); // Output: 49\n"
      ],
      "metadata": {
        "id": "TffCRMFeVt0f"
      },
      "execution_count": null,
      "outputs": []
    },
    {
      "cell_type": "markdown",
      "source": [
        "4. Write a JavaScript function called calculateTax that takes an income as an argument and returns the\n",
        "amount of tax to be paid. Use a closure to handle different tax rates based on income ranges. Test the\n",
        "function with various incomes."
      ],
      "metadata": {
        "id": "49FHiZYKVwm7"
      }
    },
    {
      "cell_type": "code",
      "source": [
        "function taxCalculator() {\n",
        "  return function(income) {\n",
        "    if(income > 100000) {\n",
        "      return income * 0.3;\n",
        "    } else if(income > 50000) {\n",
        "      return income * 0.2;\n",
        "    } else {\n",
        "      return income * 0.1;\n",
        "    }\n",
        "  }\n",
        "}\n",
        "const calculateTax = taxCalculator();\n",
        "console.log(calculateTax(120000)); // Output: 36000\n",
        "console.log(calculateTax(70000));  // Output: 14000\n",
        "console.log(calculateTax(40000));  // Output: 4000\n"
      ],
      "metadata": {
        "id": "RfP7t4DRV0Mp"
      },
      "execution_count": null,
      "outputs": []
    },
    {
      "cell_type": "markdown",
      "source": [
        "5. Write a JavaScript function called factorial that calculates the factorial of a non-negative integer using recursion. Test the function with different inputs."
      ],
      "metadata": {
        "id": "Qyg57Dg8V3Au"
      }
    },
    {
      "cell_type": "code",
      "source": [
        "function factorial(n) {\n",
        "  if(n === 0) return 1;\n",
        "  return n * factorial(n - 1);\n",
        "}\n",
        "console.log(factorial(5)); // Output: 120\n",
        "console.log(factorial(3)); // Output: 6\n"
      ],
      "metadata": {
        "id": "ylDl1rMaV9KM"
      },
      "execution_count": null,
      "outputs": []
    },
    {
      "cell_type": "markdown",
      "source": [
        "6.  Write a JavaScript function called curry that takes a function as an argument and returns a curried\n",
        "version of that function. The curried function should accept arguments one at a time and return a new\n",
        "function until all arguments are provided. Then, it should execute the original function with all arguments.\n",
        "Test the curry function with a function that adds two numbers."
      ],
      "metadata": {
        "id": "a-j0fdx0V_9j"
      }
    },
    {
      "cell_type": "code",
      "source": [
        "function curry(func) {\n",
        "  return function curried(...args) {\n",
        "    if (args.length >= func.length) {\n",
        "      return func(...args);\n",
        "    } else {\n",
        "      return function(...nextArgs) {\n",
        "        return curried(...args, ...nextArgs);\n",
        "      }\n",
        "    }\n",
        "  }\n",
        "}\n",
        "\n",
        "function add(a, b) {\n",
        "  return a + b;\n",
        "}\n",
        "const curriedAdd = curry(add);\n",
        "\n",
        "console.log(curriedAdd(2)(3)); // Output: 5\n"
      ],
      "metadata": {
        "id": "h_A0WBjdWDCS"
      },
      "execution_count": null,
      "outputs": []
    }
  ]
}